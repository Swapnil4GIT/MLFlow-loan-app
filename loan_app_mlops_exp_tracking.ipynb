{
  "cells": [
    {
      "cell_type": "markdown",
      "id": "b4dca717",
      "metadata": {
        "id": "b4dca717"
      },
      "source": [
        "# Experiment Tracking using MLFlow"
      ]
    },
    {
      "cell_type": "code",
      "execution_count": null,
      "id": "4e0568cb",
      "metadata": {
        "id": "4e0568cb"
      },
      "outputs": [],
      "source": [
        "import pandas as pd\n",
        "import numpy as np"
      ]
    },
    {
      "cell_type": "code",
      "execution_count": null,
      "id": "92f729ad",
      "metadata": {
        "id": "92f729ad",
        "outputId": "01f98b6b-643c-4b1f-cb3b-33aca42894b3"
      },
      "outputs": [
        {
          "data": {
            "text/html": [
              "<div>\n",
              "<style scoped>\n",
              "    .dataframe tbody tr th:only-of-type {\n",
              "        vertical-align: middle;\n",
              "    }\n",
              "\n",
              "    .dataframe tbody tr th {\n",
              "        vertical-align: top;\n",
              "    }\n",
              "\n",
              "    .dataframe thead th {\n",
              "        text-align: right;\n",
              "    }\n",
              "</style>\n",
              "<table border=\"1\" class=\"dataframe\">\n",
              "  <thead>\n",
              "    <tr style=\"text-align: right;\">\n",
              "      <th></th>\n",
              "      <th>Loan_ID</th>\n",
              "      <th>Gender</th>\n",
              "      <th>Married</th>\n",
              "      <th>Dependents</th>\n",
              "      <th>Education</th>\n",
              "      <th>Self_Employed</th>\n",
              "      <th>ApplicantIncome</th>\n",
              "      <th>CoapplicantIncome</th>\n",
              "      <th>LoanAmount</th>\n",
              "      <th>Loan_Amount_Term</th>\n",
              "      <th>Credit_History</th>\n",
              "      <th>Property_Area</th>\n",
              "      <th>Loan_Status</th>\n",
              "    </tr>\n",
              "  </thead>\n",
              "  <tbody>\n",
              "    <tr>\n",
              "      <th>0</th>\n",
              "      <td>LP002529</td>\n",
              "      <td>Male</td>\n",
              "      <td>Yes</td>\n",
              "      <td>2</td>\n",
              "      <td>Graduate</td>\n",
              "      <td>No</td>\n",
              "      <td>6700</td>\n",
              "      <td>1750.0</td>\n",
              "      <td>230.0</td>\n",
              "      <td>300.0</td>\n",
              "      <td>1.0</td>\n",
              "      <td>Semiurban</td>\n",
              "      <td>Y</td>\n",
              "    </tr>\n",
              "    <tr>\n",
              "      <th>1</th>\n",
              "      <td>LP001385</td>\n",
              "      <td>Male</td>\n",
              "      <td>No</td>\n",
              "      <td>0</td>\n",
              "      <td>Graduate</td>\n",
              "      <td>No</td>\n",
              "      <td>5316</td>\n",
              "      <td>0.0</td>\n",
              "      <td>136.0</td>\n",
              "      <td>360.0</td>\n",
              "      <td>1.0</td>\n",
              "      <td>Urban</td>\n",
              "      <td>Y</td>\n",
              "    </tr>\n",
              "    <tr>\n",
              "      <th>2</th>\n",
              "      <td>LP001926</td>\n",
              "      <td>Male</td>\n",
              "      <td>Yes</td>\n",
              "      <td>0</td>\n",
              "      <td>Graduate</td>\n",
              "      <td>No</td>\n",
              "      <td>3704</td>\n",
              "      <td>2000.0</td>\n",
              "      <td>120.0</td>\n",
              "      <td>360.0</td>\n",
              "      <td>1.0</td>\n",
              "      <td>Rural</td>\n",
              "      <td>Y</td>\n",
              "    </tr>\n",
              "    <tr>\n",
              "      <th>3</th>\n",
              "      <td>LP001144</td>\n",
              "      <td>Male</td>\n",
              "      <td>Yes</td>\n",
              "      <td>0</td>\n",
              "      <td>Graduate</td>\n",
              "      <td>No</td>\n",
              "      <td>5821</td>\n",
              "      <td>0.0</td>\n",
              "      <td>144.0</td>\n",
              "      <td>360.0</td>\n",
              "      <td>1.0</td>\n",
              "      <td>Urban</td>\n",
              "      <td>Y</td>\n",
              "    </tr>\n",
              "    <tr>\n",
              "      <th>4</th>\n",
              "      <td>LP002562</td>\n",
              "      <td>Male</td>\n",
              "      <td>Yes</td>\n",
              "      <td>1</td>\n",
              "      <td>Not Graduate</td>\n",
              "      <td>No</td>\n",
              "      <td>5333</td>\n",
              "      <td>1131.0</td>\n",
              "      <td>186.0</td>\n",
              "      <td>360.0</td>\n",
              "      <td>NaN</td>\n",
              "      <td>Urban</td>\n",
              "      <td>Y</td>\n",
              "    </tr>\n",
              "  </tbody>\n",
              "</table>\n",
              "</div>"
            ],
            "text/plain": [
              "    Loan_ID Gender Married Dependents     Education Self_Employed  \\\n",
              "0  LP002529   Male     Yes          2      Graduate            No   \n",
              "1  LP001385   Male      No          0      Graduate            No   \n",
              "2  LP001926   Male     Yes          0      Graduate            No   \n",
              "3  LP001144   Male     Yes          0      Graduate            No   \n",
              "4  LP002562   Male     Yes          1  Not Graduate            No   \n",
              "\n",
              "   ApplicantIncome  CoapplicantIncome  LoanAmount  Loan_Amount_Term  \\\n",
              "0             6700             1750.0       230.0             300.0   \n",
              "1             5316                0.0       136.0             360.0   \n",
              "2             3704             2000.0       120.0             360.0   \n",
              "3             5821                0.0       144.0             360.0   \n",
              "4             5333             1131.0       186.0             360.0   \n",
              "\n",
              "   Credit_History Property_Area Loan_Status  \n",
              "0             1.0     Semiurban           Y  \n",
              "1             1.0         Urban           Y  \n",
              "2             1.0         Rural           Y  \n",
              "3             1.0         Urban           Y  \n",
              "4             NaN         Urban           Y  "
            ]
          },
          "execution_count": 6,
          "metadata": {},
          "output_type": "execute_result"
        }
      ],
      "source": [
        "train_df = pd.read_csv('data.csv') \n",
        "train_df.head()"
      ]
    },
    {
      "cell_type": "code",
      "execution_count": null,
      "id": "848b2c58",
      "metadata": {
        "id": "848b2c58",
        "outputId": "4f2e895f-0cc2-4f34-931b-7f1cc3079434"
      },
      "outputs": [
        {
          "name": "stdout",
          "output_type": "stream",
          "text": [
            "<class 'pandas.core.frame.DataFrame'>\n",
            "RangeIndex: 430 entries, 0 to 429\n",
            "Data columns (total 13 columns):\n",
            " #   Column             Non-Null Count  Dtype  \n",
            "---  ------             --------------  -----  \n",
            " 0   Loan_ID            430 non-null    object \n",
            " 1   Gender             420 non-null    object \n",
            " 2   Married            427 non-null    object \n",
            " 3   Dependents         416 non-null    object \n",
            " 4   Education          430 non-null    object \n",
            " 5   Self_Employed      410 non-null    object \n",
            " 6   ApplicantIncome    430 non-null    int64  \n",
            " 7   CoapplicantIncome  430 non-null    float64\n",
            " 8   LoanAmount         414 non-null    float64\n",
            " 9   Loan_Amount_Term   422 non-null    float64\n",
            " 10  Credit_History     394 non-null    float64\n",
            " 11  Property_Area      430 non-null    object \n",
            " 12  Loan_Status        430 non-null    object \n",
            "dtypes: float64(4), int64(1), object(8)\n",
            "memory usage: 43.8+ KB\n"
          ]
        }
      ],
      "source": [
        "train_df.info()"
      ]
    },
    {
      "cell_type": "markdown",
      "id": "eef7ebcc",
      "metadata": {
        "id": "eef7ebcc"
      },
      "source": [
        "## Binary Encoding of Categorical Variables"
      ]
    },
    {
      "cell_type": "code",
      "execution_count": null,
      "id": "f366aabc",
      "metadata": {
        "id": "f366aabc"
      },
      "outputs": [],
      "source": [
        "train_df['Gender']= train_df['Gender'].map({'Male':0, 'Female':1})\n",
        "train_df['Married']= train_df['Married'].map({'No':0, 'Yes':1})\n",
        "train_df['Loan_Status']= train_df['Loan_Status'].map({'N':0, 'Y':1})"
      ]
    },
    {
      "cell_type": "code",
      "execution_count": null,
      "id": "90ae3b8a",
      "metadata": {
        "id": "90ae3b8a",
        "outputId": "151fdf21-b6fa-4058-c28a-b9a7cfb1a420"
      },
      "outputs": [
        {
          "name": "stdout",
          "output_type": "stream",
          "text": [
            "<class 'pandas.core.frame.DataFrame'>\n",
            "RangeIndex: 430 entries, 0 to 429\n",
            "Data columns (total 13 columns):\n",
            " #   Column             Non-Null Count  Dtype  \n",
            "---  ------             --------------  -----  \n",
            " 0   Loan_ID            430 non-null    object \n",
            " 1   Gender             420 non-null    float64\n",
            " 2   Married            427 non-null    float64\n",
            " 3   Dependents         416 non-null    object \n",
            " 4   Education          430 non-null    object \n",
            " 5   Self_Employed      410 non-null    object \n",
            " 6   ApplicantIncome    430 non-null    int64  \n",
            " 7   CoapplicantIncome  430 non-null    float64\n",
            " 8   LoanAmount         414 non-null    float64\n",
            " 9   Loan_Amount_Term   422 non-null    float64\n",
            " 10  Credit_History     394 non-null    float64\n",
            " 11  Property_Area      430 non-null    object \n",
            " 12  Loan_Status        430 non-null    int64  \n",
            "dtypes: float64(6), int64(2), object(5)\n",
            "memory usage: 43.8+ KB\n"
          ]
        }
      ],
      "source": [
        "train_df.info()"
      ]
    },
    {
      "cell_type": "markdown",
      "id": "07cbf7fc",
      "metadata": {
        "id": "07cbf7fc"
      },
      "source": [
        "## Checking for Missing Values"
      ]
    },
    {
      "cell_type": "code",
      "execution_count": null,
      "id": "ede9b966",
      "metadata": {
        "id": "ede9b966",
        "outputId": "00f39651-2023-4321-b700-0cdacc86f804"
      },
      "outputs": [
        {
          "data": {
            "text/plain": [
              "Loan_ID               0\n",
              "Gender               10\n",
              "Married               3\n",
              "Dependents           14\n",
              "Education             0\n",
              "Self_Employed        20\n",
              "ApplicantIncome       0\n",
              "CoapplicantIncome     0\n",
              "LoanAmount           16\n",
              "Loan_Amount_Term      8\n",
              "Credit_History       36\n",
              "Property_Area         0\n",
              "Loan_Status           0\n",
              "dtype: int64"
            ]
          },
          "execution_count": 10,
          "metadata": {},
          "output_type": "execute_result"
        }
      ],
      "source": [
        "train_df.isnull().sum()"
      ]
    },
    {
      "cell_type": "code",
      "execution_count": null,
      "id": "4b808828",
      "metadata": {
        "id": "4b808828",
        "outputId": "d92f4447-9d29-4065-9e86-f8d2d9f0ffb6"
      },
      "outputs": [
        {
          "data": {
            "text/plain": [
              "Loan_ID              0\n",
              "Gender               0\n",
              "Married              0\n",
              "Dependents           0\n",
              "Education            0\n",
              "Self_Employed        0\n",
              "ApplicantIncome      0\n",
              "CoapplicantIncome    0\n",
              "LoanAmount           0\n",
              "Loan_Amount_Term     0\n",
              "Credit_History       0\n",
              "Property_Area        0\n",
              "Loan_Status          0\n",
              "dtype: int64"
            ]
          },
          "execution_count": 11,
          "metadata": {},
          "output_type": "execute_result"
        }
      ],
      "source": [
        "## dropping all the missing values\n",
        "train_df = train_df.dropna()\n",
        "train_df.isnull().sum()"
      ]
    },
    {
      "cell_type": "markdown",
      "id": "0877bf84",
      "metadata": {
        "id": "0877bf84"
      },
      "source": [
        "## Segregating the target variable from the features"
      ]
    },
    {
      "cell_type": "code",
      "execution_count": null,
      "id": "f5bc00cd",
      "metadata": {
        "id": "f5bc00cd",
        "outputId": "193f7270-9f08-4106-c08b-0470ee411534"
      },
      "outputs": [
        {
          "data": {
            "text/plain": [
              "((335, 5), (335,))"
            ]
          },
          "execution_count": 12,
          "metadata": {},
          "output_type": "execute_result"
        }
      ],
      "source": [
        "X = train_df[['Gender', 'Married', 'ApplicantIncome', 'LoanAmount', 'Credit_History']]\n",
        "y = train_df.Loan_Status\n",
        "X.shape, y.shape"
      ]
    },
    {
      "cell_type": "code",
      "execution_count": null,
      "id": "a9895e9a",
      "metadata": {
        "id": "a9895e9a"
      },
      "outputs": [],
      "source": []
    },
    {
      "cell_type": "markdown",
      "id": "e40c4527",
      "metadata": {
        "id": "e40c4527"
      },
      "source": [
        "## Splitting the data"
      ]
    },
    {
      "cell_type": "code",
      "execution_count": null,
      "id": "645c47db",
      "metadata": {
        "id": "645c47db"
      },
      "outputs": [],
      "source": [
        "from sklearn.model_selection import train_test_split\n",
        "\n",
        "X_train, X_val, y_train, y_val = train_test_split(X, y, test_size=0.2, random_state=5)"
      ]
    },
    {
      "cell_type": "markdown",
      "id": "6d981410",
      "metadata": {
        "id": "6d981410"
      },
      "source": [
        "## Model Training"
      ]
    },
    {
      "cell_type": "code",
      "execution_count": null,
      "id": "aff9f9ca",
      "metadata": {
        "id": "aff9f9ca",
        "outputId": "59c261a0-fdcd-4d69-b7d4-d9d3a433c753"
      },
      "outputs": [
        {
          "data": {
            "text/html": [
              "<style>#sk-container-id-1 {color: black;background-color: white;}#sk-container-id-1 pre{padding: 0;}#sk-container-id-1 div.sk-toggleable {background-color: white;}#sk-container-id-1 label.sk-toggleable__label {cursor: pointer;display: block;width: 100%;margin-bottom: 0;padding: 0.3em;box-sizing: border-box;text-align: center;}#sk-container-id-1 label.sk-toggleable__label-arrow:before {content: \"▸\";float: left;margin-right: 0.25em;color: #696969;}#sk-container-id-1 label.sk-toggleable__label-arrow:hover:before {color: black;}#sk-container-id-1 div.sk-estimator:hover label.sk-toggleable__label-arrow:before {color: black;}#sk-container-id-1 div.sk-toggleable__content {max-height: 0;max-width: 0;overflow: hidden;text-align: left;background-color: #f0f8ff;}#sk-container-id-1 div.sk-toggleable__content pre {margin: 0.2em;color: black;border-radius: 0.25em;background-color: #f0f8ff;}#sk-container-id-1 input.sk-toggleable__control:checked~div.sk-toggleable__content {max-height: 200px;max-width: 100%;overflow: auto;}#sk-container-id-1 input.sk-toggleable__control:checked~label.sk-toggleable__label-arrow:before {content: \"▾\";}#sk-container-id-1 div.sk-estimator input.sk-toggleable__control:checked~label.sk-toggleable__label {background-color: #d4ebff;}#sk-container-id-1 div.sk-label input.sk-toggleable__control:checked~label.sk-toggleable__label {background-color: #d4ebff;}#sk-container-id-1 input.sk-hidden--visually {border: 0;clip: rect(1px 1px 1px 1px);clip: rect(1px, 1px, 1px, 1px);height: 1px;margin: -1px;overflow: hidden;padding: 0;position: absolute;width: 1px;}#sk-container-id-1 div.sk-estimator {font-family: monospace;background-color: #f0f8ff;border: 1px dotted black;border-radius: 0.25em;box-sizing: border-box;margin-bottom: 0.5em;}#sk-container-id-1 div.sk-estimator:hover {background-color: #d4ebff;}#sk-container-id-1 div.sk-parallel-item::after {content: \"\";width: 100%;border-bottom: 1px solid gray;flex-grow: 1;}#sk-container-id-1 div.sk-label:hover label.sk-toggleable__label {background-color: #d4ebff;}#sk-container-id-1 div.sk-serial::before {content: \"\";position: absolute;border-left: 1px solid gray;box-sizing: border-box;top: 0;bottom: 0;left: 50%;z-index: 0;}#sk-container-id-1 div.sk-serial {display: flex;flex-direction: column;align-items: center;background-color: white;padding-right: 0.2em;padding-left: 0.2em;position: relative;}#sk-container-id-1 div.sk-item {position: relative;z-index: 1;}#sk-container-id-1 div.sk-parallel {display: flex;align-items: stretch;justify-content: center;background-color: white;position: relative;}#sk-container-id-1 div.sk-item::before, #sk-container-id-1 div.sk-parallel-item::before {content: \"\";position: absolute;border-left: 1px solid gray;box-sizing: border-box;top: 0;bottom: 0;left: 50%;z-index: -1;}#sk-container-id-1 div.sk-parallel-item {display: flex;flex-direction: column;z-index: 1;position: relative;background-color: white;}#sk-container-id-1 div.sk-parallel-item:first-child::after {align-self: flex-end;width: 50%;}#sk-container-id-1 div.sk-parallel-item:last-child::after {align-self: flex-start;width: 50%;}#sk-container-id-1 div.sk-parallel-item:only-child::after {width: 0;}#sk-container-id-1 div.sk-dashed-wrapped {border: 1px dashed gray;margin: 0 0.4em 0.5em 0.4em;box-sizing: border-box;padding-bottom: 0.4em;background-color: white;}#sk-container-id-1 div.sk-label label {font-family: monospace;font-weight: bold;display: inline-block;line-height: 1.2em;}#sk-container-id-1 div.sk-label-container {text-align: center;}#sk-container-id-1 div.sk-container {/* jupyter's `normalize.less` sets `[hidden] { display: none; }` but bootstrap.min.css set `[hidden] { display: none !important; }` so we also need the `!important` here to be able to override the default hidden behavior on the sphinx rendered scikit-learn.org. See: https://github.com/scikit-learn/scikit-learn/issues/21755 */display: inline-block !important;position: relative;}#sk-container-id-1 div.sk-text-repr-fallback {display: none;}</style><div id=\"sk-container-id-1\" class=\"sk-top-container\"><div class=\"sk-text-repr-fallback\"><pre>RandomForestClassifier(max_depth=4, random_state=5)</pre><b>In a Jupyter environment, please rerun this cell to show the HTML representation or trust the notebook. <br />On GitHub, the HTML representation is unable to render, please try loading this page with nbviewer.org.</b></div><div class=\"sk-container\" hidden><div class=\"sk-item\"><div class=\"sk-estimator sk-toggleable\"><input class=\"sk-toggleable__control sk-hidden--visually\" id=\"sk-estimator-id-1\" type=\"checkbox\" checked><label for=\"sk-estimator-id-1\" class=\"sk-toggleable__label sk-toggleable__label-arrow\">RandomForestClassifier</label><div class=\"sk-toggleable__content\"><pre>RandomForestClassifier(max_depth=4, random_state=5)</pre></div></div></div></div></div>"
            ],
            "text/plain": [
              "RandomForestClassifier(max_depth=4, random_state=5)"
            ]
          },
          "execution_count": 14,
          "metadata": {},
          "output_type": "execute_result"
        }
      ],
      "source": [
        "from sklearn.ensemble import RandomForestClassifier\n",
        "\n",
        "model = RandomForestClassifier(max_depth=4, random_state=5)\n",
        "model.fit(X_train, y_train)"
      ]
    },
    {
      "cell_type": "markdown",
      "id": "3e0d418d",
      "metadata": {
        "id": "3e0d418d"
      },
      "source": [
        "## Cross Validation"
      ]
    },
    {
      "cell_type": "code",
      "execution_count": null,
      "id": "75973a68",
      "metadata": {
        "id": "75973a68",
        "outputId": "cfc31728-2737-4c5e-cbaf-0424102d96dc"
      },
      "outputs": [
        {
          "data": {
            "text/plain": [
              "0.7313432835820896"
            ]
          },
          "execution_count": 15,
          "metadata": {},
          "output_type": "execute_result"
        }
      ],
      "source": [
        "from sklearn.metrics import accuracy_score\n",
        "\n",
        "pred_val = model.predict(X_val)\n",
        "accuracy_score(y_val, pred_val)"
      ]
    },
    {
      "cell_type": "code",
      "execution_count": null,
      "id": "38148e46",
      "metadata": {
        "id": "38148e46",
        "outputId": "7d99d781-e680-4488-90b9-396dad2f75a8"
      },
      "outputs": [
        {
          "data": {
            "text/plain": [
              "0.8134328358208955"
            ]
          },
          "execution_count": 16,
          "metadata": {},
          "output_type": "execute_result"
        }
      ],
      "source": [
        "pred_train = model.predict(X_train)\n",
        "accuracy_score(y_train, pred_train)"
      ]
    },
    {
      "cell_type": "code",
      "execution_count": null,
      "id": "7423e9ec",
      "metadata": {
        "id": "7423e9ec"
      },
      "outputs": [],
      "source": []
    },
    {
      "cell_type": "markdown",
      "id": "23a97b8e",
      "metadata": {
        "id": "23a97b8e"
      },
      "source": [
        "## Tracking using MLFlow"
      ]
    },
    {
      "cell_type": "code",
      "execution_count": null,
      "id": "2e5f05ba",
      "metadata": {
        "id": "2e5f05ba"
      },
      "outputs": [],
      "source": [
        "import mlflow\n",
        "import os"
      ]
    },
    {
      "cell_type": "code",
      "execution_count": null,
      "id": "842f3f71",
      "metadata": {
        "id": "842f3f71",
        "outputId": "5e1a320f-5c92-462c-8b80-17e068979307"
      },
      "outputs": [
        {
          "name": "stderr",
          "output_type": "stream",
          "text": [
            "2023/01/23 21:48:12 INFO mlflow.tracking.fluent: Experiment with name 'loan_status' does not exist. Creating a new experiment.\n"
          ]
        },
        {
          "data": {
            "text/plain": [
              "<Experiment: artifact_location='file:///Users/harshit/Scaler/classes/lectures/dsml_feb_adv_mlops/dsml_feb_mlflow/mlruns/1', experiment_id='1', lifecycle_stage='active', name='loan_status', tags={}>"
            ]
          },
          "execution_count": 19,
          "metadata": {},
          "output_type": "execute_result"
        }
      ],
      "source": [
        "mlflow.set_experiment(\"loan_status\")"
      ]
    },
    {
      "cell_type": "code",
      "execution_count": null,
      "id": "6cb41f9b",
      "metadata": {
        "id": "6cb41f9b"
      },
      "outputs": [],
      "source": [
        "with mlflow.start_run():\n",
        "    ##training the model\n",
        "    model_rf = RandomForestClassifier(max_depth=4, random_state=5)\n",
        "    model_rf.fit(X_train, y_train)\n",
        "    \n",
        "    ##capturing validation acc\n",
        "    pred_val = model_rf.predict(X_val)\n",
        "    val_acc = accuracy_score(y_val, pred_val)\n",
        "    \n",
        "    ##capturing training acc\n",
        "    pred_train = model_rf.predict(X_train)\n",
        "    train_acc = accuracy_score(y_val, pred_val)\n",
        "    \n",
        "    mlflow.set_tag('mlflow.runName', 'first_run')\n",
        "    mlflow.log_param('max_depth', 4)\n",
        "    mlflow.log_metric('val_acc', val_acc)\n",
        "    mlflow.log_metric('train_acc', train_acc)\n",
        "    \n",
        "    mlflow.sklearn.log_model(model_rf, \"model\")\n",
        "    "
      ]
    },
    {
      "cell_type": "markdown",
      "id": "58a439af",
      "metadata": {
        "id": "58a439af"
      },
      "source": [
        "## Training on a new dataset"
      ]
    },
    {
      "cell_type": "code",
      "execution_count": null,
      "id": "69ef511e",
      "metadata": {
        "id": "69ef511e",
        "outputId": "9fc3bd4f-1e66-465f-ab03-4070debed162"
      },
      "outputs": [
        {
          "data": {
            "text/html": [
              "<div>\n",
              "<style scoped>\n",
              "    .dataframe tbody tr th:only-of-type {\n",
              "        vertical-align: middle;\n",
              "    }\n",
              "\n",
              "    .dataframe tbody tr th {\n",
              "        vertical-align: top;\n",
              "    }\n",
              "\n",
              "    .dataframe thead th {\n",
              "        text-align: right;\n",
              "    }\n",
              "</style>\n",
              "<table border=\"1\" class=\"dataframe\">\n",
              "  <thead>\n",
              "    <tr style=\"text-align: right;\">\n",
              "      <th></th>\n",
              "      <th>Loan_ID</th>\n",
              "      <th>Gender</th>\n",
              "      <th>Married</th>\n",
              "      <th>Dependents</th>\n",
              "      <th>Education</th>\n",
              "      <th>Self_Employed</th>\n",
              "      <th>ApplicantIncome</th>\n",
              "      <th>CoapplicantIncome</th>\n",
              "      <th>LoanAmount</th>\n",
              "      <th>Loan_Amount_Term</th>\n",
              "      <th>Credit_History</th>\n",
              "      <th>Property_Area</th>\n",
              "      <th>Loan_Status</th>\n",
              "    </tr>\n",
              "  </thead>\n",
              "  <tbody>\n",
              "    <tr>\n",
              "      <th>0</th>\n",
              "      <td>LP001002</td>\n",
              "      <td>Male</td>\n",
              "      <td>No</td>\n",
              "      <td>0</td>\n",
              "      <td>Graduate</td>\n",
              "      <td>No</td>\n",
              "      <td>5849</td>\n",
              "      <td>0.0</td>\n",
              "      <td>NaN</td>\n",
              "      <td>360.0</td>\n",
              "      <td>1.0</td>\n",
              "      <td>Urban</td>\n",
              "      <td>Y</td>\n",
              "    </tr>\n",
              "    <tr>\n",
              "      <th>1</th>\n",
              "      <td>LP001003</td>\n",
              "      <td>Male</td>\n",
              "      <td>Yes</td>\n",
              "      <td>1</td>\n",
              "      <td>Graduate</td>\n",
              "      <td>No</td>\n",
              "      <td>4583</td>\n",
              "      <td>1508.0</td>\n",
              "      <td>128.0</td>\n",
              "      <td>360.0</td>\n",
              "      <td>1.0</td>\n",
              "      <td>Rural</td>\n",
              "      <td>N</td>\n",
              "    </tr>\n",
              "    <tr>\n",
              "      <th>2</th>\n",
              "      <td>LP001005</td>\n",
              "      <td>Male</td>\n",
              "      <td>Yes</td>\n",
              "      <td>0</td>\n",
              "      <td>Graduate</td>\n",
              "      <td>Yes</td>\n",
              "      <td>3000</td>\n",
              "      <td>0.0</td>\n",
              "      <td>66.0</td>\n",
              "      <td>360.0</td>\n",
              "      <td>1.0</td>\n",
              "      <td>Urban</td>\n",
              "      <td>Y</td>\n",
              "    </tr>\n",
              "    <tr>\n",
              "      <th>3</th>\n",
              "      <td>LP001006</td>\n",
              "      <td>Male</td>\n",
              "      <td>Yes</td>\n",
              "      <td>0</td>\n",
              "      <td>Not Graduate</td>\n",
              "      <td>No</td>\n",
              "      <td>2583</td>\n",
              "      <td>2358.0</td>\n",
              "      <td>120.0</td>\n",
              "      <td>360.0</td>\n",
              "      <td>1.0</td>\n",
              "      <td>Urban</td>\n",
              "      <td>Y</td>\n",
              "    </tr>\n",
              "    <tr>\n",
              "      <th>4</th>\n",
              "      <td>LP001008</td>\n",
              "      <td>Male</td>\n",
              "      <td>No</td>\n",
              "      <td>0</td>\n",
              "      <td>Graduate</td>\n",
              "      <td>No</td>\n",
              "      <td>6000</td>\n",
              "      <td>0.0</td>\n",
              "      <td>141.0</td>\n",
              "      <td>360.0</td>\n",
              "      <td>1.0</td>\n",
              "      <td>Urban</td>\n",
              "      <td>Y</td>\n",
              "    </tr>\n",
              "  </tbody>\n",
              "</table>\n",
              "</div>"
            ],
            "text/plain": [
              "    Loan_ID Gender Married Dependents     Education Self_Employed  \\\n",
              "0  LP001002   Male      No          0      Graduate            No   \n",
              "1  LP001003   Male     Yes          1      Graduate            No   \n",
              "2  LP001005   Male     Yes          0      Graduate           Yes   \n",
              "3  LP001006   Male     Yes          0  Not Graduate            No   \n",
              "4  LP001008   Male      No          0      Graduate            No   \n",
              "\n",
              "   ApplicantIncome  CoapplicantIncome  LoanAmount  Loan_Amount_Term  \\\n",
              "0             5849                0.0         NaN             360.0   \n",
              "1             4583             1508.0       128.0             360.0   \n",
              "2             3000                0.0        66.0             360.0   \n",
              "3             2583             2358.0       120.0             360.0   \n",
              "4             6000                0.0       141.0             360.0   \n",
              "\n",
              "   Credit_History Property_Area Loan_Status  \n",
              "0             1.0         Urban           Y  \n",
              "1             1.0         Rural           N  \n",
              "2             1.0         Urban           Y  \n",
              "3             1.0         Urban           Y  \n",
              "4             1.0         Urban           Y  "
            ]
          },
          "execution_count": 21,
          "metadata": {},
          "output_type": "execute_result"
        }
      ],
      "source": [
        "train_df = pd.read_csv('data_new.csv') \n",
        "train_df.head()"
      ]
    },
    {
      "cell_type": "code",
      "execution_count": null,
      "id": "c2e3594f",
      "metadata": {
        "id": "c2e3594f"
      },
      "outputs": [],
      "source": [
        "train_df['Gender']= train_df['Gender'].map({'Male':0, 'Female':1})\n",
        "train_df['Married']= train_df['Married'].map({'No':0, 'Yes':1})\n",
        "train_df['Loan_Status']= train_df['Loan_Status'].map({'N':0, 'Y':1})\n",
        "\n",
        "train_df = train_df.dropna()\n",
        "\n",
        "X = train_df[['Gender', 'Married', 'ApplicantIncome', 'LoanAmount', 'Credit_History']]\n",
        "y = train_df.Loan_Status\n",
        "X.shape, y.shape\n",
        "\n",
        "from sklearn.model_selection import train_test_split\n",
        "\n",
        "X_train, X_val, y_train, y_val = train_test_split(X, y, test_size=0.2, random_state=5)"
      ]
    },
    {
      "cell_type": "code",
      "execution_count": null,
      "id": "842de1df",
      "metadata": {
        "id": "842de1df"
      },
      "outputs": [],
      "source": [
        "with mlflow.start_run():\n",
        "    ##training the model\n",
        "    model_rf = RandomForestClassifier(max_depth=4, random_state=5)\n",
        "    model_rf.fit(X_train, y_train)\n",
        "    \n",
        "    ##capturing validation acc\n",
        "    pred_val = model_rf.predict(X_val)\n",
        "    val_acc = accuracy_score(y_val, pred_val)\n",
        "    \n",
        "    ##capturing training acc\n",
        "    pred_train = model_rf.predict(X_train)\n",
        "    train_acc = accuracy_score(y_val, pred_val)\n",
        "    \n",
        "    mlflow.set_tag('mlflow.runName', 'new_data_version')\n",
        "    mlflow.log_param('max_depth', 4)\n",
        "    mlflow.log_metric('val_acc', val_acc)\n",
        "    mlflow.log_metric('train_acc', train_acc)\n",
        "    \n",
        "    mlflow.sklearn.log_model(model_rf, \"model\")"
      ]
    },
    {
      "cell_type": "markdown",
      "id": "60cd9764",
      "metadata": {
        "id": "60cd9764"
      },
      "source": [
        "## Hyperparameter tuning with MLFlow"
      ]
    },
    {
      "cell_type": "code",
      "execution_count": null,
      "id": "88e7cbeb",
      "metadata": {
        "id": "88e7cbeb"
      },
      "outputs": [],
      "source": [
        "def mlflow_runs(n_est, max_dep, i):\n",
        "    with mlflow.start_run():\n",
        "        ##training the model\n",
        "        model_rf = RandomForestClassifier(n_estimators=n_est, \n",
        "                                          max_depth=max_dep, \n",
        "                                          random_state=5)\n",
        "        model_rf.fit(X_train, y_train)\n",
        "\n",
        "        ##capturing validation acc\n",
        "        pred_val = model_rf.predict(X_val)\n",
        "        val_acc = accuracy_score(y_val, pred_val)\n",
        "\n",
        "        ##capturing training acc\n",
        "        pred_train = model_rf.predict(X_train)\n",
        "        train_acc = accuracy_score(y_val, pred_val)\n",
        "        \n",
        "        run_name = f\"hyperparameter_tuning_{i}\"\n",
        "\n",
        "        mlflow.set_tag('mlflow.runName', run_name)\n",
        "        mlflow.log_param('n_estimators', n_est)\n",
        "        mlflow.log_param('max_depth', max_dep)\n",
        "        mlflow.log_metric('val_acc', val_acc)\n",
        "        mlflow.log_metric('train_acc', train_acc)\n",
        "        mlflow.set_tag(\"data_file\", \"data_new.csv\")\n",
        "        \n",
        "        mlflow.sklearn.log_model(model_rf, \"model\")"
      ]
    },
    {
      "cell_type": "code",
      "execution_count": null,
      "id": "236997d3",
      "metadata": {
        "id": "236997d3"
      },
      "outputs": [],
      "source": [
        "mlflow_runs(10, 2, 1)\n",
        "mlflow_runs(20, 2, 2)\n",
        "mlflow_runs(30, 2, 3)\n",
        "mlflow_runs(40, 2, 4)\n",
        "mlflow_runs(10, 4, 5)\n",
        "mlflow_runs(20, 4, 6)\n",
        "mlflow_runs(30, 4, 7)\n",
        "mlflow_runs(40, 4, 8)\n",
        "mlflow_runs(10, 8, 9)\n",
        "mlflow_runs(20, 8, 10)\n",
        "mlflow_runs(40, 8, 11)"
      ]
    },
    {
      "cell_type": "markdown",
      "id": "6f3404ed",
      "metadata": {
        "id": "6f3404ed"
      },
      "source": [
        "## Trying a different model - KNN"
      ]
    },
    {
      "cell_type": "code",
      "execution_count": null,
      "id": "77344b70",
      "metadata": {
        "id": "77344b70",
        "outputId": "ce2bdd6b-eddc-40ad-a84f-1304431b3385"
      },
      "outputs": [
        {
          "data": {
            "image/png": "[encoded data removed]",
            "text/plain": [
              "<Figure size 432x288 with 2 Axes>"
            ]
          },
          "metadata": {
            "needs_background": "light"
          },
          "output_type": "display_data"
        }
      ],
      "source": [
        "from sklearn.neighbors import KNeighborsClassifier\n",
        "import matplotlib.pyplot as plt\n",
        "from sklearn.metrics import ConfusionMatrixDisplay\n",
        "\n",
        "with mlflow.start_run():\n",
        "    ##training the model\n",
        "    knn_model = KNeighborsClassifier(n_neighbors=5)\n",
        "    knn_model.fit(X_train, y_train)\n",
        "    \n",
        "    ##capturing validation acc\n",
        "    pred_val = model_rf.predict(X_val)\n",
        "    val_acc = accuracy_score(y_val, pred_val)\n",
        "    \n",
        "    ##capturing training acc\n",
        "    pred_train = model_rf.predict(X_train)\n",
        "    train_acc = accuracy_score(y_val, pred_val)\n",
        "    \n",
        "    mlflow.set_tag('mlflow.runName', 'knn')\n",
        "    mlflow.log_param('neighbors', 5)\n",
        "    mlflow.log_metric('val_acc', val_acc)\n",
        "    mlflow.log_metric('train_acc', train_acc)\n",
        "    mlflow.set_tag(\"data_file\", \"data_new.csv\")\n",
        "    \n",
        "    cm = ConfusionMatrixDisplay.from_predictions(y_val, pred_val)\n",
        "    cm.figure_.savefig(\"confusion_mat.png\")\n",
        "    mlflow.log_artifact(\"confusion_mat.png\")\n",
        "    \n",
        "    \n",
        "    mlflow.sklearn.log_model(knn_model, \"model\")"
      ]
    },
    {
      "cell_type": "code",
      "execution_count": null,
      "id": "69cdc898",
      "metadata": {
        "id": "69cdc898"
      },
      "outputs": [],
      "source": []
    },
    {
      "cell_type": "code",
      "execution_count": null,
      "id": "6687c944",
      "metadata": {
        "id": "6687c944"
      },
      "outputs": [],
      "source": []
    },
    {
      "cell_type": "code",
      "execution_count": null,
      "id": "7bc6e70c",
      "metadata": {
        "id": "7bc6e70c"
      },
      "outputs": [],
      "source": []
    },
    {
      "cell_type": "code",
      "execution_count": null,
      "id": "febc3460",
      "metadata": {
        "id": "febc3460"
      },
      "outputs": [],
      "source": []
    },
    {
      "cell_type": "code",
      "execution_count": null,
      "id": "b89d32f0",
      "metadata": {
        "id": "b89d32f0"
      },
      "outputs": [],
      "source": []
    }
  ],
  "metadata": {
    "kernelspec": {
      "display_name": "Python 3 (ipykernel)",
      "language": "python",
      "name": "python3"
    },
    "language_info": {
      "codemirror_mode": {
        "name": "ipython",
        "version": 3
      },
      "file_extension": ".py",
      "mimetype": "text/x-python",
      "name": "python",
      "nbconvert_exporter": "python",
      "pygments_lexer": "ipython3",
      "version": "3.9.10"
    },
    "colab": {
      "provenance": []
    }
  },
  "nbformat": 4,
  "nbformat_minor": 5
}